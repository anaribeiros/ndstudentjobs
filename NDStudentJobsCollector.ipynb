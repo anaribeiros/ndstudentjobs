{
  "nbformat": 4,
  "nbformat_minor": 0,
  "metadata": {
    "colab": {
      "provenance": [],
      "authorship_tag": "ABX9TyNydQyqgG2mFBob4wzqQevQ",
      "include_colab_link": true
    },
    "kernelspec": {
      "name": "python3",
      "display_name": "Python 3"
    },
    "language_info": {
      "name": "python"
    }
  },
  "cells": [
    {
      "cell_type": "markdown",
      "metadata": {
        "id": "view-in-github",
        "colab_type": "text"
      },
      "source": [
        "<a href=\"https://colab.research.google.com/github/anaribeiros/ndstudentjobs/blob/main/NDStudentJobsCollector.ipynb\" target=\"_parent\"><img src=\"https://colab.research.google.com/assets/colab-badge.svg\" alt=\"Open In Colab\"/></a>"
      ]
    },
    {
      "cell_type": "markdown",
      "source": [
        "#**Notre Dame Student Jobs Collector**\n",
        "\n",
        "**Goal:** Scrape all student jobs from ND's Job Board, organizing them and their compensations concisely in one Google Sheet.\n",
        "\n",
        "**Why?**\n",
        "  * As a broke college student, it's honestly annoying to have to click on multiple pages just to find out what job fits me the best (and pays me the most!)\n",
        "  * So, I felt it'd be nice to just run this script and have everything stored on a spreadsheet (so much faster to read/go through, especially when there are 20+ listed jobs at the start of each semester).\n",
        "\n",
        "**What I've used**\n",
        "*   Beautiful Soup: to scrape data out of ND's Job Board\n",
        "*   Pandas: to create/manipulate a dataframe w/ job information\n",
        "*   Gspread: to access and edit a Google Sheet\n",
        "\n",
        "[Link to spreadsheet!](https://docs.google.com/spreadsheets/d/1zT53P82LngsnbjDC02dx4G0BHBjGfUiQMZEA0ve9f5c/edit?usp=sharing)\n",
        "\n",
        "\n"
      ],
      "metadata": {
        "id": "XzQ6k_zLhMnJ"
      }
    },
    {
      "cell_type": "markdown",
      "source": [
        "#**For up-to-date ND job info on the spreadsheet => run me!**"
      ],
      "metadata": {
        "id": "8nrV_BZ4e1_e"
      }
    },
    {
      "cell_type": "markdown",
      "source": [
        "##**1. Scrapping data from ND's website**"
      ],
      "metadata": {
        "id": "8X1uzBnCiN-j"
      }
    },
    {
      "cell_type": "code",
      "source": [
        "# importing requests and beautiful soup\n",
        "import requests\n",
        "from bs4 import BeautifulSoup"
      ],
      "metadata": {
        "id": "IUFolzo8jbWk"
      },
      "execution_count": 1,
      "outputs": []
    },
    {
      "cell_type": "code",
      "execution_count": 2,
      "metadata": {
        "id": "28jrlr56hHu2"
      },
      "outputs": [],
      "source": [
        "# requesting job board's url and converting it to a soup\n",
        "\n",
        "index_url = \"https://studentjobs.nd.edu\"\n",
        "page = requests.get(index_url)\n",
        "\n",
        "soup = BeautifulSoup(page.content, \"html.parser\")"
      ]
    },
    {
      "cell_type": "code",
      "source": [
        "# getting all job urls and job types\n",
        "jobs = soup.find_all('li',class_ = 'card-body')\n",
        "urls = []\n",
        "job_type = []\n",
        "\n",
        "for job in jobs:\n",
        "  job_type.append(job['data-category'])\n",
        "  a = job.find_all(class_ = 'card-link')[0]\n",
        "  urls.append(index_url + a['href'])\n",
        "\n",
        "print(urls)\n",
        "print(job_type)"
      ],
      "metadata": {
        "colab": {
          "base_uri": "https://localhost:8080/"
        },
        "id": "AAO5RL2ckRNb",
        "outputId": "53c76210-c537-4349-ff6c-b8fc7cb76ffa"
      },
      "execution_count": 3,
      "outputs": [
        {
          "output_type": "stream",
          "name": "stdout",
          "text": [
            "['https://studentjobs.nd.edu/jobs/academic-year-driving-to-from-adams-high-school-/', 'https://studentjobs.nd.edu/jobs/after-school-care-for-three-children-/', 'https://studentjobs.nd.edu/jobs/monday-and-friday-fall-semester-childcare-for-3-yo-/', 'https://studentjobs.nd.edu/jobs/spirituality-student-worker-alumni-association/']\n",
            "['off-campus', 'off-campus', 'off-campus', 'on-campus']\n"
          ]
        }
      ]
    },
    {
      "cell_type": "markdown",
      "source": [
        "Notre Dame divides it's jobs into 3 categories: On Campus, Off Campus and Community Service. We'll create a dataframe to store the data on the job postings and to specify which type of job each one of them is."
      ],
      "metadata": {
        "id": "qW8r6DjTk1uZ"
      }
    },
    {
      "cell_type": "code",
      "source": [
        "from typing_extensions import dataclass_transform\n",
        "data_cols = ['Job Type', 'Title', 'Department', 'Hours', 'Rate', 'URL']\n",
        "data_jobs = []\n",
        "\n",
        "for i in range(len(urls)):\n",
        "  page = requests.get(urls[i])\n",
        "  soup = BeautifulSoup(page.content, \"html.parser\")\n",
        "  title = soup.find('h1',class_ = 'page-title').text\n",
        "  qualifications = soup.find('div', class_ = 'job-details__meta')\n",
        "  divs_qualifications = qualifications.find_all('div')\n",
        "\n",
        "\n",
        "  try:\n",
        "    department = qualifications.find('dt', text='Department').findNext('dd').text\n",
        "  except:\n",
        "    department = 'N/A'\n",
        "\n",
        "  try:\n",
        "    hours = qualifications.find('dt', text='Hours').findNext('dd').text\n",
        "  except:\n",
        "    hours = 'Not informed'\n",
        "\n",
        "  try:\n",
        "    rate = qualifications.find('dt', text='Rate').findNext('dd').text\n",
        "  except:\n",
        "    rate = 'Not informed'\n",
        "\n",
        "\n",
        "  data = [job_type[i], title, department, hours, rate, urls[i]]\n",
        "  data_jobs.append(data)"
      ],
      "metadata": {
        "id": "-ab-8-sPk1IL",
        "colab": {
          "base_uri": "https://localhost:8080/"
        },
        "outputId": "2747484c-29a6-4368-931b-fae6918be1ee"
      },
      "execution_count": 4,
      "outputs": [
        {
          "output_type": "stream",
          "name": "stderr",
          "text": [
            "<ipython-input-4-17ae0510b69f>:14: DeprecationWarning: The 'text' argument to find()-type methods is deprecated. Use 'string' instead.\n",
            "  department = qualifications.find('dt', text='Department').findNext('dd').text\n",
            "<ipython-input-4-17ae0510b69f>:19: DeprecationWarning: The 'text' argument to find()-type methods is deprecated. Use 'string' instead.\n",
            "  hours = qualifications.find('dt', text='Hours').findNext('dd').text\n",
            "<ipython-input-4-17ae0510b69f>:24: DeprecationWarning: The 'text' argument to find()-type methods is deprecated. Use 'string' instead.\n",
            "  rate = qualifications.find('dt', text='Rate').findNext('dd').text\n"
          ]
        }
      ]
    },
    {
      "cell_type": "code",
      "source": [
        "# converting list into dataframe\n",
        "import pandas as pd\n",
        "\n",
        "df_jobs = pd.DataFrame(data_jobs, columns=data_cols)\n",
        "df_jobs.head(30)"
      ],
      "metadata": {
        "colab": {
          "base_uri": "https://localhost:8080/",
          "height": 0
        },
        "id": "kNYiC7KaU9w4",
        "outputId": "f8b1a02c-4f05-4164-ef07-31ee0620ffa8"
      },
      "execution_count": 5,
      "outputs": [
        {
          "output_type": "execute_result",
          "data": {
            "text/plain": [
              "     Job Type                                              Title  \\\n",
              "0  off-campus    Academic Year Driving To/From Adams High School   \n",
              "1  off-campus               After-school care for three children   \n",
              "2  off-campus  Monday and Friday Fall semester childcare for ...   \n",
              "3   on-campus                        Spirituality Student Worker   \n",
              "\n",
              "           Department                Hours    Rate  \\\n",
              "0                 N/A     7-830am, 330-4pm  $20.00   \n",
              "1                 N/A                    4  $15.00   \n",
              "2                 N/A  8; 11:45am - 3:45pm  $16.00   \n",
              "3  Alumni Association                    6  $15.00   \n",
              "\n",
              "                                                 URL  \n",
              "0  https://studentjobs.nd.edu/jobs/academic-year-...  \n",
              "1  https://studentjobs.nd.edu/jobs/after-school-c...  \n",
              "2  https://studentjobs.nd.edu/jobs/monday-and-fri...  \n",
              "3  https://studentjobs.nd.edu/jobs/spirituality-s...  "
            ],
            "text/html": [
              "\n",
              "  <div id=\"df-f07eaa93-7c2d-45c0-b8de-779c7842964f\">\n",
              "    <div class=\"colab-df-container\">\n",
              "      <div>\n",
              "<style scoped>\n",
              "    .dataframe tbody tr th:only-of-type {\n",
              "        vertical-align: middle;\n",
              "    }\n",
              "\n",
              "    .dataframe tbody tr th {\n",
              "        vertical-align: top;\n",
              "    }\n",
              "\n",
              "    .dataframe thead th {\n",
              "        text-align: right;\n",
              "    }\n",
              "</style>\n",
              "<table border=\"1\" class=\"dataframe\">\n",
              "  <thead>\n",
              "    <tr style=\"text-align: right;\">\n",
              "      <th></th>\n",
              "      <th>Job Type</th>\n",
              "      <th>Title</th>\n",
              "      <th>Department</th>\n",
              "      <th>Hours</th>\n",
              "      <th>Rate</th>\n",
              "      <th>URL</th>\n",
              "    </tr>\n",
              "  </thead>\n",
              "  <tbody>\n",
              "    <tr>\n",
              "      <th>0</th>\n",
              "      <td>off-campus</td>\n",
              "      <td>Academic Year Driving To/From Adams High School</td>\n",
              "      <td>N/A</td>\n",
              "      <td>7-830am, 330-4pm</td>\n",
              "      <td>$20.00</td>\n",
              "      <td>https://studentjobs.nd.edu/jobs/academic-year-...</td>\n",
              "    </tr>\n",
              "    <tr>\n",
              "      <th>1</th>\n",
              "      <td>off-campus</td>\n",
              "      <td>After-school care for three children</td>\n",
              "      <td>N/A</td>\n",
              "      <td>4</td>\n",
              "      <td>$15.00</td>\n",
              "      <td>https://studentjobs.nd.edu/jobs/after-school-c...</td>\n",
              "    </tr>\n",
              "    <tr>\n",
              "      <th>2</th>\n",
              "      <td>off-campus</td>\n",
              "      <td>Monday and Friday Fall semester childcare for ...</td>\n",
              "      <td>N/A</td>\n",
              "      <td>8; 11:45am - 3:45pm</td>\n",
              "      <td>$16.00</td>\n",
              "      <td>https://studentjobs.nd.edu/jobs/monday-and-fri...</td>\n",
              "    </tr>\n",
              "    <tr>\n",
              "      <th>3</th>\n",
              "      <td>on-campus</td>\n",
              "      <td>Spirituality Student Worker</td>\n",
              "      <td>Alumni Association</td>\n",
              "      <td>6</td>\n",
              "      <td>$15.00</td>\n",
              "      <td>https://studentjobs.nd.edu/jobs/spirituality-s...</td>\n",
              "    </tr>\n",
              "  </tbody>\n",
              "</table>\n",
              "</div>\n",
              "      <button class=\"colab-df-convert\" onclick=\"convertToInteractive('df-f07eaa93-7c2d-45c0-b8de-779c7842964f')\"\n",
              "              title=\"Convert this dataframe to an interactive table.\"\n",
              "              style=\"display:none;\">\n",
              "        \n",
              "  <svg xmlns=\"http://www.w3.org/2000/svg\" height=\"24px\"viewBox=\"0 0 24 24\"\n",
              "       width=\"24px\">\n",
              "    <path d=\"M0 0h24v24H0V0z\" fill=\"none\"/>\n",
              "    <path d=\"M18.56 5.44l.94 2.06.94-2.06 2.06-.94-2.06-.94-.94-2.06-.94 2.06-2.06.94zm-11 1L8.5 8.5l.94-2.06 2.06-.94-2.06-.94L8.5 2.5l-.94 2.06-2.06.94zm10 10l.94 2.06.94-2.06 2.06-.94-2.06-.94-.94-2.06-.94 2.06-2.06.94z\"/><path d=\"M17.41 7.96l-1.37-1.37c-.4-.4-.92-.59-1.43-.59-.52 0-1.04.2-1.43.59L10.3 9.45l-7.72 7.72c-.78.78-.78 2.05 0 2.83L4 21.41c.39.39.9.59 1.41.59.51 0 1.02-.2 1.41-.59l7.78-7.78 2.81-2.81c.8-.78.8-2.07 0-2.86zM5.41 20L4 18.59l7.72-7.72 1.47 1.35L5.41 20z\"/>\n",
              "  </svg>\n",
              "      </button>\n",
              "      \n",
              "  <style>\n",
              "    .colab-df-container {\n",
              "      display:flex;\n",
              "      flex-wrap:wrap;\n",
              "      gap: 12px;\n",
              "    }\n",
              "\n",
              "    .colab-df-convert {\n",
              "      background-color: #E8F0FE;\n",
              "      border: none;\n",
              "      border-radius: 50%;\n",
              "      cursor: pointer;\n",
              "      display: none;\n",
              "      fill: #1967D2;\n",
              "      height: 32px;\n",
              "      padding: 0 0 0 0;\n",
              "      width: 32px;\n",
              "    }\n",
              "\n",
              "    .colab-df-convert:hover {\n",
              "      background-color: #E2EBFA;\n",
              "      box-shadow: 0px 1px 2px rgba(60, 64, 67, 0.3), 0px 1px 3px 1px rgba(60, 64, 67, 0.15);\n",
              "      fill: #174EA6;\n",
              "    }\n",
              "\n",
              "    [theme=dark] .colab-df-convert {\n",
              "      background-color: #3B4455;\n",
              "      fill: #D2E3FC;\n",
              "    }\n",
              "\n",
              "    [theme=dark] .colab-df-convert:hover {\n",
              "      background-color: #434B5C;\n",
              "      box-shadow: 0px 1px 3px 1px rgba(0, 0, 0, 0.15);\n",
              "      filter: drop-shadow(0px 1px 2px rgba(0, 0, 0, 0.3));\n",
              "      fill: #FFFFFF;\n",
              "    }\n",
              "  </style>\n",
              "\n",
              "      <script>\n",
              "        const buttonEl =\n",
              "          document.querySelector('#df-f07eaa93-7c2d-45c0-b8de-779c7842964f button.colab-df-convert');\n",
              "        buttonEl.style.display =\n",
              "          google.colab.kernel.accessAllowed ? 'block' : 'none';\n",
              "\n",
              "        async function convertToInteractive(key) {\n",
              "          const element = document.querySelector('#df-f07eaa93-7c2d-45c0-b8de-779c7842964f');\n",
              "          const dataTable =\n",
              "            await google.colab.kernel.invokeFunction('convertToInteractive',\n",
              "                                                     [key], {});\n",
              "          if (!dataTable) return;\n",
              "\n",
              "          const docLinkHtml = 'Like what you see? Visit the ' +\n",
              "            '<a target=\"_blank\" href=https://colab.research.google.com/notebooks/data_table.ipynb>data table notebook</a>'\n",
              "            + ' to learn more about interactive tables.';\n",
              "          element.innerHTML = '';\n",
              "          dataTable['output_type'] = 'display_data';\n",
              "          await google.colab.output.renderOutput(dataTable, element);\n",
              "          const docLink = document.createElement('div');\n",
              "          docLink.innerHTML = docLinkHtml;\n",
              "          element.appendChild(docLink);\n",
              "        }\n",
              "      </script>\n",
              "    </div>\n",
              "  </div>\n",
              "  "
            ]
          },
          "metadata": {},
          "execution_count": 5
        }
      ]
    },
    {
      "cell_type": "markdown",
      "source": [
        "##**2. Inserting all that data on a Google Spreadsheet**"
      ],
      "metadata": {
        "id": "iGAhKsRdiTvN"
      }
    },
    {
      "cell_type": "code",
      "source": [
        "!pip install gspread --upgrade"
      ],
      "metadata": {
        "colab": {
          "base_uri": "https://localhost:8080/"
        },
        "id": "OMCf4XpMZtBt",
        "outputId": "3584356c-4923-459c-9922-694694b7602d"
      },
      "execution_count": 6,
      "outputs": [
        {
          "output_type": "stream",
          "name": "stdout",
          "text": [
            "Looking in indexes: https://pypi.org/simple, https://us-python.pkg.dev/colab-wheels/public/simple/\n",
            "Requirement already satisfied: gspread in /usr/local/lib/python3.10/dist-packages (3.4.2)\n",
            "Collecting gspread\n",
            "  Downloading gspread-5.9.0-py3-none-any.whl (40 kB)\n",
            "\u001b[2K     \u001b[90m━━━━━━━━━━━━━━━━━━━━━━━━━━━━━━━━━━━━━━━━\u001b[0m \u001b[32m41.0/41.0 kB\u001b[0m \u001b[31m1.8 MB/s\u001b[0m eta \u001b[36m0:00:00\u001b[0m\n",
            "\u001b[?25hRequirement already satisfied: google-auth>=1.12.0 in /usr/local/lib/python3.10/dist-packages (from gspread) (2.17.3)\n",
            "Requirement already satisfied: google-auth-oauthlib>=0.4.1 in /usr/local/lib/python3.10/dist-packages (from gspread) (1.0.0)\n",
            "Requirement already satisfied: cachetools<6.0,>=2.0.0 in /usr/local/lib/python3.10/dist-packages (from google-auth>=1.12.0->gspread) (5.3.0)\n",
            "Requirement already satisfied: pyasn1-modules>=0.2.1 in /usr/local/lib/python3.10/dist-packages (from google-auth>=1.12.0->gspread) (0.3.0)\n",
            "Requirement already satisfied: six>=1.9.0 in /usr/local/lib/python3.10/dist-packages (from google-auth>=1.12.0->gspread) (1.16.0)\n",
            "Requirement already satisfied: rsa<5,>=3.1.4 in /usr/local/lib/python3.10/dist-packages (from google-auth>=1.12.0->gspread) (4.9)\n",
            "Requirement already satisfied: requests-oauthlib>=0.7.0 in /usr/local/lib/python3.10/dist-packages (from google-auth-oauthlib>=0.4.1->gspread) (1.3.1)\n",
            "Requirement already satisfied: pyasn1<0.6.0,>=0.4.6 in /usr/local/lib/python3.10/dist-packages (from pyasn1-modules>=0.2.1->google-auth>=1.12.0->gspread) (0.5.0)\n",
            "Requirement already satisfied: oauthlib>=3.0.0 in /usr/local/lib/python3.10/dist-packages (from requests-oauthlib>=0.7.0->google-auth-oauthlib>=0.4.1->gspread) (3.2.2)\n",
            "Requirement already satisfied: requests>=2.0.0 in /usr/local/lib/python3.10/dist-packages (from requests-oauthlib>=0.7.0->google-auth-oauthlib>=0.4.1->gspread) (2.27.1)\n",
            "Requirement already satisfied: urllib3<1.27,>=1.21.1 in /usr/local/lib/python3.10/dist-packages (from requests>=2.0.0->requests-oauthlib>=0.7.0->google-auth-oauthlib>=0.4.1->gspread) (1.26.15)\n",
            "Requirement already satisfied: certifi>=2017.4.17 in /usr/local/lib/python3.10/dist-packages (from requests>=2.0.0->requests-oauthlib>=0.7.0->google-auth-oauthlib>=0.4.1->gspread) (2022.12.7)\n",
            "Requirement already satisfied: charset-normalizer~=2.0.0 in /usr/local/lib/python3.10/dist-packages (from requests>=2.0.0->requests-oauthlib>=0.7.0->google-auth-oauthlib>=0.4.1->gspread) (2.0.12)\n",
            "Requirement already satisfied: idna<4,>=2.5 in /usr/local/lib/python3.10/dist-packages (from requests>=2.0.0->requests-oauthlib>=0.7.0->google-auth-oauthlib>=0.4.1->gspread) (3.4)\n",
            "Installing collected packages: gspread\n",
            "  Attempting uninstall: gspread\n",
            "    Found existing installation: gspread 3.4.2\n",
            "    Uninstalling gspread-3.4.2:\n",
            "      Successfully uninstalled gspread-3.4.2\n",
            "Successfully installed gspread-5.9.0\n"
          ]
        }
      ]
    },
    {
      "cell_type": "code",
      "source": [
        "from google.colab import auth\n",
        "auth.authenticate_user()\n",
        "\n",
        "import gspread\n",
        "from google.auth import default\n",
        "creds, _ = default()\n",
        "\n",
        "gc = gspread.authorize(creds)\n",
        "\n",
        "# Open our new sheet and add some data.\n",
        "worksheet = gc.open('ND Job Board Data').sheet1"
      ],
      "metadata": {
        "id": "4sfx-IUdYARN"
      },
      "execution_count": 7,
      "outputs": []
    },
    {
      "cell_type": "code",
      "source": [
        "cols_list = df_jobs.columns.tolist()\n",
        "data_list = df_jobs.values.tolist()\n",
        "\n",
        "worksheet.clear()\n",
        "worksheet.append_row(cols_list)\n",
        "worksheet.append_rows(data_list)\n"
      ],
      "metadata": {
        "colab": {
          "base_uri": "https://localhost:8080/"
        },
        "id": "F_Beg1jxasIV",
        "outputId": "7c13c7ce-de74-4cb7-cfca-fd8adce26d72"
      },
      "execution_count": 8,
      "outputs": [
        {
          "output_type": "execute_result",
          "data": {
            "text/plain": [
              "{'spreadsheetId': '1zT53P82LngsnbjDC02dx4G0BHBjGfUiQMZEA0ve9f5c',\n",
              " 'tableRange': 'Sheet1!A1:F1',\n",
              " 'updates': {'spreadsheetId': '1zT53P82LngsnbjDC02dx4G0BHBjGfUiQMZEA0ve9f5c',\n",
              "  'updatedRange': 'Sheet1!A2:F5',\n",
              "  'updatedRows': 4,\n",
              "  'updatedColumns': 6,\n",
              "  'updatedCells': 24}}"
            ]
          },
          "metadata": {},
          "execution_count": 8
        }
      ]
    }
  ]
}